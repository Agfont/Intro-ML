{
 "cells": [
  {
   "cell_type": "code",
   "execution_count": 1,
   "metadata": {},
   "outputs": [
    {
     "name": "stdout",
     "output_type": "stream",
     "text": [
      "\n",
      "Name:  Arthur Font Gouveia\n",
      "\n",
      "Honor pledge:  I affirm that I have not given or received any unauthorized help on this assignment, and that this work is my own.\n",
      "\n"
     ]
    }
   ],
   "source": [
    "name = \"Arthur Font Gouveia\"  # write YOUR NAME\n",
    "honorPledge = \"I affirm that I have not given or received any unauthorized \" \\\n",
    "              \"help on this assignment, and that this work is my own.\\n\"\n",
    "\n",
    "print(\"\\nName: \", name)\n",
    "print(\"\\nHonor pledge: \", honorPledge)"
   ]
  },
  {
   "cell_type": "code",
   "execution_count": 2,
   "metadata": {
    "scrolled": false
   },
   "outputs": [],
   "source": [
    "import numpy as np\n",
    "import matplotlib.pyplot as plt\n",
    "from tensorflow.keras.datasets import mnist\n",
    "%matplotlib inline"
   ]
  },
  {
   "cell_type": "code",
   "execution_count": 3,
   "metadata": {},
   "outputs": [
    {
     "name": "stdout",
     "output_type": "stream",
     "text": [
      "(60000, 28, 28) (60000,)\n",
      "(10000, 28, 28) (10000,)\n"
     ]
    }
   ],
   "source": [
    "(X_train_ori, y_train_ori), (X_test_ori, y_test_ori) = mnist.load_data()\n",
    "\n",
    "print(X_train_ori.shape, y_train_ori.shape)\n",
    "print(X_test_ori.shape, y_test_ori.shape)"
   ]
  },
  {
   "cell_type": "code",
   "execution_count": 4,
   "metadata": {},
   "outputs": [
    {
     "data": {
      "image/png": "[encoded data removed]",
      "text/plain": [
       "<Figure size 432x288 with 1 Axes>"
      ]
     },
     "metadata": {
      "needs_background": "light"
     },
     "output_type": "display_data"
    }
   ],
   "source": [
    "labels = [\"%s\"%i for i in range(10)]\n",
    "\n",
    "unique, counts = np.unique(y_train_ori, return_counts=True)\n",
    "uniquet, countst = np.unique(y_test_ori, return_counts=True)\n",
    "\n",
    "fig, ax = plt.subplots()\n",
    "rects1 = ax.bar(unique - 0.2, counts, 0.25, label='Train')\n",
    "rects2 = ax.bar(unique + 0.2, countst, 0.25, label='Test')\n",
    "ax.legend()\n",
    "ax.set_xticks(unique)\n",
    "ax.set_xticklabels(labels)\n",
    "\n",
    "plt.title('MNIST classes')\n",
    "plt.xlabel('Class')\n",
    "plt.ylabel('Frequency')\n",
    "plt.show()"
   ]
  },
  {
   "cell_type": "code",
   "execution_count": 5,
   "metadata": {},
   "outputs": [
    {
     "data": {
      "image/png": "[encoded data removed]",
      "text/plain": [
       "<Figure size 648x432 with 6 Axes>"
      ]
     },
     "metadata": {
      "needs_background": "light"
     },
     "output_type": "display_data"
    }
   ],
   "source": [
    "fig, ax = plt.subplots(2, 3, figsize = (9, 6))\n",
    "\n",
    "for i in range(6):\n",
    "    ax[i//3, i%3].imshow(X_train_ori[i], cmap='gray')\n",
    "    ax[i//3, i%3].axis('off')\n",
    "    ax[i//3, i%3].set_title(\"Class: %d\"%y_train_ori[i])\n",
    "    \n",
    "plt.show()"
   ]
  },
  {
   "cell_type": "code",
   "execution_count": 6,
   "metadata": {},
   "outputs": [],
   "source": [
    "# Reduce the image size to its half \n",
    "X_train = np.array([image[::2, 1::2] for image in X_train_ori])\n",
    "X_test  = np.array([image[::2, 1::2] for image in X_test_ori])\n",
    "\n",
    "y_train = y_train_ori\n",
    "y_test = y_test_ori"
   ]
  },
  {
   "cell_type": "code",
   "execution_count": 7,
   "metadata": {},
   "outputs": [
    {
     "data": {
      "image/png": "[encoded data removed]",
      "text/plain": [
       "<Figure size 648x432 with 6 Axes>"
      ]
     },
     "metadata": {
      "needs_background": "light"
     },
     "output_type": "display_data"
    }
   ],
   "source": [
    "fig, ax = plt.subplots(2, 3, figsize = (9, 6))\n",
    "\n",
    "for i in range(6):\n",
    "    ax[i//3, i%3].imshow(X_train[i], cmap='gray')\n",
    "    ax[i//3, i%3].axis('off')\n",
    "    ax[i//3, i%3].set_title(\"Class: %d\"%y_train_ori[i])\n",
    "    \n",
    "plt.show()"
   ]
  },
  {
   "cell_type": "code",
   "execution_count": 8,
   "metadata": {},
   "outputs": [
    {
     "name": "stdout",
     "output_type": "stream",
     "text": [
      "float32\n",
      "float32\n",
      "\n",
      "Shape of X_train:  (60000, 196)\n",
      "Shape of X_test:  (10000, 196)\n",
      "\n",
      "Minimum value in X_train: 0.0\n",
      "Maximum value in X_train: 1.0\n",
      "\n",
      "Minimum value in X_test: 0.0\n",
      "Maximum value in X_test: 1.0\n"
     ]
    }
   ],
   "source": [
    "X_train = (X_train/255.0).astype('float32').reshape((60000,14*14))\n",
    "X_test = (X_test/255.0).astype('float32').reshape((10000,14*14))\n",
    "\n",
    "print(X_train.dtype)\n",
    "print(X_test.dtype)\n",
    "\n",
    "print(\"\\nShape of X_train: \", X_train.shape)\n",
    "print(\"Shape of X_test: \", X_test.shape)\n",
    "\n",
    "print(\"\\nMinimum value in X_train:\", np.amin(X_train))\n",
    "print(\"Maximum value in X_train:\", np.amax(X_train))\n",
    "\n",
    "print(\"\\nMinimum value in X_test:\", np.amin(X_test))\n",
    "print(\"Maximum value in X_test:\", np.amax(X_test))"
   ]
  },
  {
   "cell_type": "markdown",
   "metadata": {},
   "source": [
    "## 1. Dataset preparation"
   ]
  },
  {
   "cell_type": "markdown",
   "metadata": {},
   "source": [
    "### 1.1 Split original training set into 70% training (D_train) and 30% validation (D_val) sets, in a stratified way\n",
    "Scikit Documentation: https://scikit-learn.org/stable/modules/generated/sklearn.model_selection.train_test_split.html"
   ]
  },
  {
   "cell_type": "code",
   "execution_count": 9,
   "metadata": {},
   "outputs": [],
   "source": [
    "from sklearn.model_selection import train_test_split\n",
    "from collections import Counter\n",
    "import warnings\n",
    "warnings.filterwarnings(\"ignore\")\n",
    "DX_train, DX_val, Dy_train, Dy_val = train_test_split(X_train, y_train, test_size=0.3, stratify = y_train)"
   ]
  },
  {
   "cell_type": "code",
   "execution_count": 10,
   "metadata": {},
   "outputs": [
    {
     "name": "stdout",
     "output_type": "stream",
     "text": [
      "D_train shape: (42000, 196)\n",
      "D_val shape: (18000, 196)\n"
     ]
    }
   ],
   "source": [
    "print(\"D_train shape:\", DX_train.shape)\n",
    "print(\"D_val shape:\", DX_val.shape)"
   ]
  },
  {
   "cell_type": "markdown",
   "metadata": {},
   "source": [
    "### 1.2 Make sure that the generated partition is indeed stratified."
   ]
  },
  {
   "cell_type": "code",
   "execution_count": 11,
   "metadata": {},
   "outputs": [
    {
     "name": "stdout",
     "output_type": "stream",
     "text": [
      "Distribution of class 0 on train set: 70.00%\n",
      "Distribution of class 1 on train set: 69.99%\n",
      "Distribution of class 2 on train set: 70.01%\n",
      "Distribution of class 3 on train set: 70.00%\n",
      "Distribution of class 4 on train set: 69.99%\n",
      "Distribution of class 5 on train set: 70.01%\n",
      "Distribution of class 6 on train set: 70.01%\n",
      "Distribution of class 7 on train set: 69.99%\n",
      "Distribution of class 8 on train set: 70.01%\n",
      "Distribution of class 9 on train set: 69.99%\n",
      "- Conclusion: The generated partition is indeed stratified  (≅ 70.00%).\n"
     ]
    }
   ],
   "source": [
    "dic_train = Counter(Dy_train)\n",
    "dic_val = Counter(Dy_val)\n",
    "for i in unique:\n",
    "    print(\"Distribution of class {} on train set: {:.2%}\".format(i, dic_train[i]/(dic_train[i] + dic_val[i])))\n",
    "print(\"- Conclusion: The generated partition is indeed stratified  (≅ 70.00%).\")"
   ]
  },
  {
   "cell_type": "markdown",
   "metadata": {},
   "source": [
    "## 2. Training, evaluating and selecting models\n",
    "=> I used the method train_test_split() from model selection of scikit-learn to use a reduced sample (1/3 of the train data set). I also applied combinations to select the best hyparameters for each model.<br><br>\n",
    "Scikit Documentation: https://scikit-learn.org/stable/model_selection.html<br>\n",
    "Other references: https://machinelearningmastery.com/hyperparameters-for-classification-machine-learning-algorithms/#:~:text=Logistic%20regression%20does%20not%20really,with%20different%20solvers%20(solver).&text=Regularization%20(penalty)%20can%20sometimes%20be%20helpful.<br>"
   ]
  },
  {
   "cell_type": "code",
   "execution_count": 12,
   "metadata": {},
   "outputs": [
    {
     "name": "stdout",
     "output_type": "stream",
     "text": [
      "Distribution of class 0 on train set: 34.01%\n",
      "Distribution of class 1 on train set: 33.99%\n",
      "Distribution of class 2 on train set: 34.00%\n",
      "Distribution of class 3 on train set: 33.99%\n",
      "Distribution of class 4 on train set: 33.99%\n",
      "Distribution of class 5 on train set: 33.99%\n",
      "Distribution of class 6 on train set: 34.01%\n",
      "Distribution of class 7 on train set: 34.00%\n",
      "Distribution of class 8 on train set: 34.01%\n",
      "Distribution of class 9 on train set: 34.01%\n",
      "- Conclusion: The generated partition is indeed stratified (≅ 33.99%).\n"
     ]
    }
   ],
   "source": [
    "from sklearn.model_selection import StratifiedKFold\n",
    "import itertools\n",
    "\n",
    "# Parameters seted for reduce processing time and CPU's resources\n",
    "MAX_ITER = 20\n",
    "\n",
    "# Partition on D_train was needed because of the large size of data to be processed\n",
    "reduced_x_train, x_n, reduced_y_train, x_y = train_test_split(DX_train, Dy_train, test_size=0.66, stratify = Dy_train)\n",
    "dic_train = Counter(reduced_y_train)\n",
    "dic_val = Counter(x_y)\n",
    "for i in unique:\n",
    "    print(\"Distribution of class {} on train set: {:.2%}\".format(i, dic_train[i]/(dic_train[i] + dic_val[i])))\n",
    "print(\"- Conclusion: The generated partition is indeed stratified (≅ 33.99%).\")"
   ]
  },
  {
   "cell_type": "markdown",
   "metadata": {},
   "source": [
    "### 2.1 Logistic regression model\n",
    "=> I evaluated the following hypeparameters for the logistic regression model:\n",
    "- Solver: algorithm to use in the optimization problem\n",
    "- Penalty: norm used in the penalization\n",
    "- C: inverse of regularization strength\n",
    "\n",
    "Scikit Documentation: https://scikit-learn.org/stable/modules/generated/sklearn.linear_model.LogisticRegression.html"
   ]
  },
  {
   "cell_type": "code",
   "execution_count": 13,
   "metadata": {},
   "outputs": [
    {
     "name": "stdout",
     "output_type": "stream",
     "text": [
      "1: Train set acc: 92.50% with: ('newton-cg', 'l2', 10)\n",
      "2: Train set acc: 92.00% with: ('newton-cg', 'l2', 1.0)\n",
      "3: Train set acc: 90.65% with: ('newton-cg', 'l2', 0.1)\n",
      "4: Train set acc: 90.39% with: ('lbfgs', 'l2', 10)\n",
      "5: Train set acc: 90.39% with: ('lbfgs', 'l2', 1.0)\n",
      "6: Train set acc: 90.13% with: ('lbfgs', 'l2', 0.1)\n",
      "7: Train set acc: 91.37% with: ('liblinear', 'l2', 10)\n",
      "8: Train set acc: 90.74% with: ('liblinear', 'l2', 1.0)\n",
      "9: Train set acc: 89.55% with: ('liblinear', 'l2', 0.1)\n"
     ]
    }
   ],
   "source": [
    "from sklearn.linear_model import LogisticRegression\n",
    "\n",
    "# Define hyperparameters\n",
    "solvers = ['newton-cg', 'lbfgs', 'liblinear']\n",
    "penalty = ['l2']\n",
    "c_values = [10, 1.0, 0.1]\n",
    "\n",
    "# Combination of hyparameters\n",
    "comb_params = list(itertools.product(solvers, penalty, c_values))\n",
    "i = 0\n",
    "for p in comb_params:\n",
    "    clf = LogisticRegression(solver=p[0], penalty=p[1], C=p[2], max_iter=MAX_ITER)\n",
    "    clf.fit(reduced_x_train, reduced_y_train)\n",
    "\n",
    "    # Get scores for each combination of hyparameters\n",
    "    train_acc = clf.score(reduced_x_train, reduced_y_train)\n",
    "    print(\"{}: Train set acc: {:.2%} with:\".format(i+1, train_acc), p)\n",
    "    i += 1"
   ]
  },
  {
   "cell_type": "markdown",
   "metadata": {},
   "source": [
    "### 2.2 SVM model\n",
    "=> I evaluated the following hypeparameters for the SVM model:\n",
    "- Penalty: norm used in the penalization\n",
    "- C: inverse of regularization strength\n",
    "\n",
    "Scikit Documentation: https://scikit-learn.org/stable/modules/generated/sklearn.svm.LinearSVC.html#sklearn.svm.LinearSVC"
   ]
  },
  {
   "cell_type": "code",
   "execution_count": 14,
   "metadata": {},
   "outputs": [
    {
     "name": "stdout",
     "output_type": "stream",
     "text": [
      "1: Train set acc: 91.10% with: ('l1', 10)\n",
      "2: Train set acc: 90.88% with: ('l1', 1.0)\n",
      "3: Train set acc: 90.11% with: ('l1', 0.1)\n",
      "4: Train set acc: 91.08% with: ('l2', 10)\n",
      "5: Train set acc: 90.94% with: ('l2', 1.0)\n",
      "6: Train set acc: 90.60% with: ('l2', 0.1)\n"
     ]
    }
   ],
   "source": [
    "from sklearn.svm import LinearSVC\n",
    "\n",
    "# Define hyperparameters\n",
    "penalty = ['l1', 'l2']\n",
    "c_values = [10, 1.0, 0.1]\n",
    "\n",
    "# Combination of hyparameters\n",
    "comb_params = list(itertools.product(penalty, c_values))\n",
    "i = 0\n",
    "for p in comb_params:\n",
    "    clf = LinearSVC(penalty=p[0],C=p[1],dual=False, max_iter=MAX_ITER)\n",
    "    clf.fit(reduced_x_train, reduced_y_train)\n",
    "\n",
    "    # Get scores for each combination of hyparameters\n",
    "    train_acc = clf.score(reduced_x_train, reduced_y_train)\n",
    "    print(\"{}: Train set acc: {:.2%} with:\".format(i+1, train_acc), p)\n",
    "    i += 1"
   ]
  },
  {
   "cell_type": "markdown",
   "metadata": {},
   "source": [
    "### 2.3 Neural network model\n",
    "=> I evaluated the following hypeparameters for the neural network model:\n",
    "- Hidden layer sizes: number of neurons on each hidden layer\n",
    "- Solver: solver for weight optimization\n",
    "- Activation: activation function for the hidden layer\n",
    "\n",
    "Scikit Documentation: https://scikit-learn.org/stable/modules/generated/sklearn.neural_network.MLPClassifier.html"
   ]
  },
  {
   "cell_type": "code",
   "execution_count": 15,
   "metadata": {},
   "outputs": [
    {
     "name": "stdout",
     "output_type": "stream",
     "text": [
      "1: Train set acc: 90.04% with: (50, 'lbfgs', 'identity')\n",
      "2: Train set acc: 87.36% with: (50, 'lbfgs', 'logistic')\n",
      "3: Train set acc: 92.07% with: (50, 'lbfgs', 'tanh')\n",
      "4: Train set acc: 88.76% with: (50, 'lbfgs', 'relu')\n",
      "5: Train set acc: 83.82% with: (50, 'sgd', 'identity')\n",
      "6: Train set acc: 54.98% with: (50, 'sgd', 'logistic')\n",
      "7: Train set acc: 83.49% with: (50, 'sgd', 'tanh')\n",
      "8: Train set acc: 83.54% with: (50, 'sgd', 'relu')\n",
      "9: Train set acc: 91.75% with: (50, 'adam', 'identity')\n",
      "10: Train set acc: 91.02% with: (50, 'adam', 'logistic')\n",
      "11: Train set acc: 93.27% with: (50, 'adam', 'tanh')\n",
      "12: Train set acc: 94.01% with: (50, 'adam', 'relu')\n",
      "13: Train set acc: 89.82% with: (100, 'lbfgs', 'identity')\n",
      "14: Train set acc: 85.45% with: (100, 'lbfgs', 'logistic')\n",
      "15: Train set acc: 91.62% with: (100, 'lbfgs', 'tanh')\n",
      "16: Train set acc: 89.93% with: (100, 'lbfgs', 'relu')\n",
      "17: Train set acc: 85.58% with: (100, 'sgd', 'identity')\n",
      "18: Train set acc: 58.33% with: (100, 'sgd', 'logistic')\n",
      "19: Train set acc: 85.17% with: (100, 'sgd', 'tanh')\n",
      "20: Train set acc: 84.17% with: (100, 'sgd', 'relu')\n",
      "21: Train set acc: 92.02% with: (100, 'adam', 'identity')\n",
      "22: Train set acc: 91.70% with: (100, 'adam', 'logistic')\n",
      "23: Train set acc: 94.23% with: (100, 'adam', 'tanh')\n",
      "24: Train set acc: 96.09% with: (100, 'adam', 'relu')\n",
      "25: Train set acc: 90.34% with: (150, 'lbfgs', 'identity')\n",
      "26: Train set acc: 85.84% with: (150, 'lbfgs', 'logistic')\n",
      "27: Train set acc: 91.37% with: (150, 'lbfgs', 'tanh')\n",
      "28: Train set acc: 90.04% with: (150, 'lbfgs', 'relu')\n",
      "29: Train set acc: 85.57% with: (150, 'sgd', 'identity')\n",
      "30: Train set acc: 60.33% with: (150, 'sgd', 'logistic')\n",
      "31: Train set acc: 85.08% with: (150, 'sgd', 'tanh')\n",
      "32: Train set acc: 84.88% with: (150, 'sgd', 'relu')\n",
      "33: Train set acc: 92.14% with: (150, 'adam', 'identity')\n",
      "34: Train set acc: 91.71% with: (150, 'adam', 'logistic')\n",
      "35: Train set acc: 94.71% with: (150, 'adam', 'tanh')\n",
      "36: Train set acc: 96.91% with: (150, 'adam', 'relu')\n"
     ]
    }
   ],
   "source": [
    "from sklearn.neural_network import MLPClassifier\n",
    "\n",
    "# Define hyperparameters\n",
    "hidden_layer_sizes = [50, 100, 150]\n",
    "solvers = ['lbfgs', 'sgd', 'adam']\n",
    "activation = ['identity', 'logistic', 'tanh', 'relu']\n",
    "\n",
    "# Combination of hyparameters\n",
    "comb_params = list(itertools.product(hidden_layer_sizes, solvers, activation))\n",
    "i = 0\n",
    "for p in comb_params:\n",
    "    clf = MLPClassifier(hidden_layer_sizes=p[0], solver=p[1], activation=p[2], max_iter=MAX_ITER)\n",
    "    clf.fit(reduced_x_train, reduced_y_train)\n",
    "\n",
    "    # Get scores for each combination of hyparameters\n",
    "    train_acc = clf.score(reduced_x_train, reduced_y_train)\n",
    "    print(\"{}: Train set acc: {:.2%} with:\".format(i+1, train_acc), p)\n",
    "    i += 1"
   ]
  },
  {
   "cell_type": "markdown",
   "metadata": {},
   "source": [
    "### 2.4 Clearly indicate and justify the selected three models\n",
    "=> Logistic Regression:\n",
    "- Solver = newton-cg\n",
    "- Penalty = l2\n",
    "- C = 10\n",
    "\n",
    "=> Linear SVC (SVM):\n",
    "- Penalty = l2\n",
    "- C = 10\n",
    "\n",
    "=> MLP (Neural network):\n",
    "- Hidde layer sizes = 150\n",
    "- Solver = adam\n",
    "- Activation = relu\n",
    "\n",
    "=> The three models were selected for the best accuracy on training set."
   ]
  },
  {
   "cell_type": "code",
   "execution_count": 16,
   "metadata": {},
   "outputs": [],
   "source": [
    "# Best parameter reached for each model\n",
    "p_LogReg = ['newton-cg', 'l2', 10] # solver, penalty, C\n",
    "p_LinSVC = ['l2', 1.0] # penalty, C\n",
    "p_MLP = [150, 'adam', 'relu'] # hidden_layer_sizes, solver, activation"
   ]
  },
  {
   "cell_type": "markdown",
   "metadata": {},
   "source": [
    "## 3. Choosing a final model"
   ]
  },
  {
   "cell_type": "markdown",
   "metadata": {},
   "source": [
    "### 3.1 Evaluate each model on validation set"
   ]
  },
  {
   "cell_type": "code",
   "execution_count": 17,
   "metadata": {},
   "outputs": [
    {
     "name": "stdout",
     "output_type": "stream",
     "text": [
      "Validation set acc: 90.97% with: ['newton-cg', 'l2', 10]\n"
     ]
    }
   ],
   "source": [
    "# Logistic Regression model\n",
    "clf = LogisticRegression(solver=p_LogReg[0], penalty=p_LogReg[1], C=p_LogReg[2], max_iter=MAX_ITER)\n",
    "clf.fit(DX_train, Dy_train)\n",
    "val_acc = clf.score(DX_val, Dy_val)\n",
    "print(\"Validation set acc: {:.2%} with:\".format(val_acc), p_LogReg)"
   ]
  },
  {
   "cell_type": "code",
   "execution_count": 18,
   "metadata": {},
   "outputs": [
    {
     "name": "stdout",
     "output_type": "stream",
     "text": [
      "Validation set acc: 89.97% with: ['l2', 1.0]\n"
     ]
    }
   ],
   "source": [
    "# Linear SVC model\n",
    "clf = LinearSVC(penalty=p_LinSVC[0],C=p_LinSVC[1],dual=False, max_iter=MAX_ITER)\n",
    "clf.fit(DX_train, Dy_train)\n",
    "val_acc = clf.score(DX_val, Dy_val)\n",
    "print(\"Validation set acc: {:.2%} with:\".format(val_acc), p_LinSVC)"
   ]
  },
  {
   "cell_type": "code",
   "execution_count": 19,
   "metadata": {},
   "outputs": [
    {
     "name": "stdout",
     "output_type": "stream",
     "text": [
      "Validation set acc: 96.78% with: [150, 'adam', 'relu']\n"
     ]
    }
   ],
   "source": [
    "# MLP model\n",
    "clf = MLPClassifier(hidden_layer_sizes=p_MLP[0], solver=p_MLP[1], activation=p_MLP[2], max_iter=MAX_ITER)\n",
    "clf.fit(DX_train, Dy_train)\n",
    "val_acc = clf.score(DX_val, Dy_val)\n",
    "print(\"Validation set acc: {:.2%} with:\".format(val_acc), p_MLP)"
   ]
  },
  {
   "cell_type": "markdown",
   "metadata": {},
   "source": [
    "### 3.2 Find the best model\n",
    "=> The model that obtained the best performance on validation set was the MLP model, which is a neural network based model. As expected, the logistic regression had the lowest accuracy, followed by the SVM and the neural network, which had the best performance.\n",
    "\n",
    "=> MLP (Neural network) hyperparameters:\n",
    "- Hidden layer sizes = 150. Our network has a single hidden layer with 150 neurons because of computer resources. It's expected that with more neurons and more layers the algorithm will perform even better.\n",
    "- Solver = adam. Refers to a stochastic gradient-based optimizer proposed by Kingma, Diederik, and Jimmy.\n",
    "- Activation = relu. The rectified linear unit function, returns f(x) = max(0, x)"
   ]
  },
  {
   "cell_type": "markdown",
   "metadata": {},
   "source": [
    "## 4 Error estimation\n",
    "Scikit Documentation: https://scikit-learn.org/stable/modules/generated/sklearn.metrics.classification_report.html\n",
    "<br>https://scikit-learn.org/stable/modules/generated/sklearn.metrics.plot_confusion_matrix.html"
   ]
  },
  {
   "cell_type": "markdown",
   "metadata": {},
   "source": [
    "### 4.1 Evaluate each model on test set\n",
    "At this point, we are going to evaluate the model which obtained the best performance.<br>\n",
    "=> The model performed a little better on the validation set than on the training set. For this reason, I think the training hyperparameters can be improved."
   ]
  },
  {
   "cell_type": "code",
   "execution_count": 20,
   "metadata": {},
   "outputs": [
    {
     "name": "stdout",
     "output_type": "stream",
     "text": [
      "Test set acc: 97.13% with: [150, 'adam', 'relu']\n"
     ]
    }
   ],
   "source": [
    "# MLP model\n",
    "clf = MLPClassifier(hidden_layer_sizes=p_MLP[0], solver=p_MLP[1], activation=p_MLP[2], max_iter=MAX_ITER)\n",
    "clf.fit(DX_train, Dy_train)\n",
    "test_acc = clf.score(X_test, y_test)\n",
    "print(\"Test set acc: {:.2%} with:\".format(test_acc), p_MLP)"
   ]
  },
  {
   "cell_type": "code",
   "execution_count": 21,
   "metadata": {},
   "outputs": [
    {
     "name": "stdout",
     "output_type": "stream",
     "text": [
      "              precision    recall  f1-score   support\n",
      "\n",
      "           0    0.96912   0.99286   0.98085       980\n",
      "           1    0.98763   0.98502   0.98633      1135\n",
      "           2    0.97635   0.96027   0.96825      1032\n",
      "           3    0.96955   0.97723   0.97337      1010\n",
      "           4    0.96285   0.97658   0.96967       982\n",
      "           5    0.98282   0.96188   0.97224       892\n",
      "           6    0.97280   0.97077   0.97179       958\n",
      "           7    0.96239   0.97082   0.96659      1028\n",
      "           8    0.95594   0.95791   0.95692       974\n",
      "           9    0.97281   0.95738   0.96503      1009\n",
      "\n",
      "    accuracy                        0.97130     10000\n",
      "   macro avg    0.97123   0.97107   0.97110     10000\n",
      "weighted avg    0.97137   0.97130   0.97129     10000\n",
      "\n"
     ]
    }
   ],
   "source": [
    "from sklearn.metrics import classification_report\n",
    "y_test_pred = clf.predict(X_test)\n",
    "print(classification_report(y_test, y_test_pred, digits=5))"
   ]
  },
  {
   "cell_type": "code",
   "execution_count": 22,
   "metadata": {},
   "outputs": [
    {
     "data": {
      "image/png": "[encoded data removed]",
      "text/plain": [
       "<Figure size 720x864 with 2 Axes>"
      ]
     },
     "metadata": {
      "needs_background": "light"
     },
     "output_type": "display_data"
    }
   ],
   "source": [
    "from sklearn.metrics import plot_confusion_matrix\n",
    "import matplotlib.pyplot as plt\n",
    "fig, ax = plt.subplots(figsize = (10, 12))\n",
    "plot_confusion_matrix(clf, X_test, y_test, ax=ax, normalize='true', cmap=plt.cm.Blues)\n",
    "plt.show() "
   ]
  },
  {
   "cell_type": "markdown",
   "metadata": {},
   "source": [
    "### 4.2 Retrain the selected model on Dtrain ∪ Dval and verify if there is any significant difference.\n",
    "=> After retrain the selected model with the train set and the validation set, the model showed an even better performance. This can be explained by a relevant increase in real data in the training phase."
   ]
  },
  {
   "cell_type": "code",
   "execution_count": 23,
   "metadata": {},
   "outputs": [
    {
     "name": "stdout",
     "output_type": "stream",
     "text": [
      "(Retrained) Test set acc: 97.52% with: [150, 'adam', 'relu']\n"
     ]
    }
   ],
   "source": [
    "# Retrained MLP model\n",
    "clf = MLPClassifier(hidden_layer_sizes=p_MLP[0], solver=p_MLP[1], activation=p_MLP[2], max_iter=MAX_ITER)\n",
    "clf.fit(X_train, y_train)\n",
    "test_acc = clf.score(X_test, y_test)\n",
    "print(\"(Retrained) Test set acc: {:.2%} with:\".format(test_acc), p_MLP)"
   ]
  },
  {
   "cell_type": "code",
   "execution_count": 24,
   "metadata": {},
   "outputs": [
    {
     "name": "stdout",
     "output_type": "stream",
     "text": [
      "              precision    recall  f1-score   support\n",
      "\n",
      "           0    0.98374   0.98776   0.98574       980\n",
      "           1    0.98252   0.99031   0.98640      1135\n",
      "           2    0.96190   0.97868   0.97022      1032\n",
      "           3    0.97522   0.97426   0.97474      1010\n",
      "           4    0.97857   0.97658   0.97757       982\n",
      "           5    0.98303   0.97422   0.97860       892\n",
      "           6    0.97599   0.97599   0.97599       958\n",
      "           7    0.97645   0.96790   0.97215      1028\n",
      "           8    0.96591   0.95996   0.96292       974\n",
      "           9    0.96912   0.96432   0.96672      1009\n",
      "\n",
      "    accuracy                        0.97520     10000\n",
      "   macro avg    0.97525   0.97500   0.97511     10000\n",
      "weighted avg    0.97521   0.97520   0.97519     10000\n",
      "\n"
     ]
    }
   ],
   "source": [
    "y_test_pred = clf.predict(X_test)\n",
    "print(classification_report(y_test, y_test_pred, digits=5))"
   ]
  },
  {
   "cell_type": "code",
   "execution_count": 25,
   "metadata": {},
   "outputs": [
    {
     "data": {
      "image/png": "[encoded data removed]",
      "text/plain": [
       "<Figure size 720x864 with 2 Axes>"
      ]
     },
     "metadata": {
      "needs_background": "light"
     },
     "output_type": "display_data"
    }
   ],
   "source": [
    "fig, ax = plt.subplots(figsize = (10, 12))\n",
    "plot_confusion_matrix(clf, X_test, y_test, ax=ax, normalize='true', cmap=plt.cm.Blues)\n",
    "plt.show() "
   ]
  },
  {
   "cell_type": "markdown",
   "metadata": {},
   "source": [
    "=> The multilayer perceptron classifier had 97,52% of accuracy. Therefore this model proved to be able to solve the problem approached (MNIST)."
   ]
  }
 ],
 "metadata": {
  "kernelspec": {
   "display_name": "Python 3",
   "language": "python",
   "name": "python3"
  },
  "language_info": {
   "codemirror_mode": {
    "name": "ipython",
    "version": 3
   },
   "file_extension": ".py",
   "mimetype": "text/x-python",
   "name": "python",
   "nbconvert_exporter": "python",
   "pygments_lexer": "ipython3",
   "version": "3.8.10"
  }
 },
 "nbformat": 4,
 "nbformat_minor": 2
}
